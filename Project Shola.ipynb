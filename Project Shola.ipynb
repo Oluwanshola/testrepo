{
 "cells": [
  {
   "cell_type": "markdown",
   "id": "21f4089f-a354-4e6d-a546-202f66c893db",
   "metadata": {},
   "source": [
    "My Jupyter Notebook on IBM Watson Studio"
   ]
  },
  {
   "cell_type": "markdown",
   "id": "f51f9247-7f16-453a-88ae-be1f154793f3",
   "metadata": {},
   "source": [
    "**Omiyale Shola**\n",
    "Data analyst in health industry"
   ]
  },
  {
   "cell_type": "markdown",
   "id": "1689220e-c6e5-478a-ab96-3fbf0917cc58",
   "metadata": {},
   "source": [
    "*I am intrested in data science because it is a way to know and make the world a better place and improve lives*"
   ]
  },
  {
   "cell_type": "markdown",
   "id": "d9d52ae3-a676-4c3f-934d-9277ffcf4191",
   "metadata": {},
   "source": [
    "My code is a very simple mathematic which is addition."
   ]
  },
  {
   "cell_type": "code",
   "execution_count": 1,
   "id": "d9a830e6-c719-4156-bb5f-39f6d23a7e5b",
   "metadata": {},
   "outputs": [
    {
     "data": {
      "text/plain": [
       "2"
      ]
     },
     "execution_count": 1,
     "metadata": {},
     "output_type": "execute_result"
    }
   ],
   "source": [
    "1 + 1"
   ]
  },
  {
   "cell_type": "markdown",
   "id": "f266bb91-3794-45a3-bcae-9d91f10f70d4",
   "metadata": {},
   "source": [
    "- Table of cotent\n",
    "- Abstract\n",
    "- introduction\n",
    " - Project\n",
    "Name in Africa\n",
    "1. Tunde\n",
    "2. Tayo\n",
    "3. Simi\n",
    "4. Bukola\n",
    "\n",
    "****\n",
    "****\n",
    "Twitter is a media"
   ]
  },
  {
   "cell_type": "code",
   "execution_count": null,
   "id": "1c0566f1-1247-4447-988b-d67c21f72d87",
   "metadata": {},
   "outputs": [],
   "source": []
  }
 ],
 "metadata": {
  "kernelspec": {
   "display_name": "Python",
   "language": "python",
   "name": "conda-env-python-py"
  },
  "language_info": {
   "codemirror_mode": {
    "name": "ipython",
    "version": 3
   },
   "file_extension": ".py",
   "mimetype": "text/x-python",
   "name": "python",
   "nbconvert_exporter": "python",
   "pygments_lexer": "ipython3",
   "version": "3.7.12"
  }
 },
 "nbformat": 4,
 "nbformat_minor": 5
}
